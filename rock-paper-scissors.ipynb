{
 "cells": [
  {
   "cell_type": "code",
   "execution_count": 70,
   "id": "f5289a54",
   "metadata": {},
   "outputs": [],
   "source": [
    "from random import choice\n",
    "class Game():\n",
    "    def intro(self):\n",
    "        print('--- Rock Paper Scissors Game ---')\n",
    "        self.rounds = int(input('How many rounds would you like to play? '))\n",
    "\n",
    "    def play(self):\n",
    "        for _ in range(self.rounds):\n",
    "            self.choice = input('Rock, paper, or scissors [r/p/s]? ')\n",
    "            computer_choice = ComputerChoice().generate_choice()\n",
    "            print(f'You: {self.choice}   |  Computer: {computer_choice}')\n",
    "            result = Result(self.choice, computer_choice)\n",
    "            print(result.result())\n",
    "\n",
    "class ComputerChoice():\n",
    "    def generate_choice(self):\n",
    "        return str(choice('rps'))\n",
    "\n",
    "class Result():\n",
    "    def __init__(self, user_choice, computer_choice):\n",
    "        self.user_choice = user_choice\n",
    "        self.computer_choice = computer_choice\n",
    "    \n",
    "    def result(self):\n",
    "        if self.user_choice == 'r':\n",
    "            return Rock().rock_outcomes(self.computer_choice)\n",
    "        if self.user_choice == 'p':\n",
    "            return Paper().paper_outcomes(self.computer_choice)\n",
    "        if self.user_choice == 's':\n",
    "            return Scissors().scissors_outcomes(self.computer_choice)\n",
    "\n",
    "\n",
    "class Rock(Game):\n",
    "    def rock_outcomes(self, computer_choice):\n",
    "        if computer_choice == 'r':\n",
    "            return 'It was a tie.'\n",
    "        if computer_choice == 'p':\n",
    "            return 'Computer won.'\n",
    "        if computer_choice == 's':\n",
    "            return 'You won.'\n",
    "\n",
    "class Paper(Game):\n",
    "    def paper_outcomes(self, computer_choice):\n",
    "        if computer_choice == 'r':\n",
    "            return 'You won.'\n",
    "        if computer_choice == 'p':\n",
    "            return 'It was a tie.'\n",
    "        if computer_choice == 's':\n",
    "            return 'Computer won.'\n",
    "\n",
    "class Scissors(Game):\n",
    "    def scissors_outcomes(self, computer_choice):\n",
    "        if computer_choice == 'r':\n",
    "            return 'Computer won.'\n",
    "        if computer_choice == 'p':\n",
    "            return 'You won.'\n",
    "        if computer_choice == 's':\n",
    "            return 'It was a tie.'"
   ]
  },
  {
   "cell_type": "code",
   "execution_count": null,
   "id": "c1db8efc",
   "metadata": {},
   "outputs": [],
   "source": []
  },
  {
   "cell_type": "code",
   "execution_count": 71,
   "id": "470bfb9d",
   "metadata": {},
   "outputs": [
    {
     "name": "stdout",
     "output_type": "stream",
     "text": [
      "--- Rock Paper Scissors Game ---\n",
      "You: r   |  Computer: r\n",
      "It was a tie.\n"
     ]
    }
   ],
   "source": [
    "game = Game()\n",
    "game.intro()\n",
    "game.play()"
   ]
  },
  {
   "cell_type": "code",
   "execution_count": 52,
   "id": "1b02ac3f",
   "metadata": {},
   "outputs": [
    {
     "data": {
      "text/plain": [
       "'s'"
      ]
     },
     "execution_count": 52,
     "metadata": {},
     "output_type": "execute_result"
    }
   ],
   "source": [
    "str(choice('rps'))"
   ]
  },
  {
   "cell_type": "code",
   "execution_count": null,
   "id": "3192eba0",
   "metadata": {},
   "outputs": [],
   "source": []
  }
 ],
 "metadata": {
  "kernelspec": {
   "display_name": "Python 3",
   "language": "python",
   "name": "python3"
  },
  "language_info": {
   "codemirror_mode": {
    "name": "ipython",
    "version": 3
   },
   "file_extension": ".py",
   "mimetype": "text/x-python",
   "name": "python",
   "nbconvert_exporter": "python",
   "pygments_lexer": "ipython3",
   "version": "3.13.7"
  }
 },
 "nbformat": 4,
 "nbformat_minor": 5
}
